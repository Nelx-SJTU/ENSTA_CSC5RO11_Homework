{
 "cells": [
  {
   "cell_type": "markdown",
   "metadata": {},
   "source": [
    "# Homework 2"
   ]
  },
  {
   "cell_type": "markdown",
   "metadata": {},
   "source": [
    "Step 1: Import Libraries"
   ]
  },
  {
   "cell_type": "code",
   "execution_count": 2,
   "metadata": {},
   "outputs": [],
   "source": [
    "import os\n",
    "import numpy as np\n",
    "import cv2\n",
    "import matplotlib.pyplot as plt\n",
    "from sklearn.model_selection import train_test_split\n",
    "from sklearn.neighbors import KNeighborsClassifier\n",
    "from sklearn.metrics import classification_report, accuracy_score\n",
    "from skimage.feature import local_binary_pattern\n",
    "from sklearn.preprocessing import StandardScaler"
   ]
  },
  {
   "cell_type": "markdown",
   "metadata": {},
   "source": [
    "Step 2: Load the dataset"
   ]
  },
  {
   "cell_type": "code",
   "execution_count": 3,
   "metadata": {},
   "outputs": [],
   "source": [
    "train_dir = './dataset/train'\n",
    "test_dir = './dataset/test'"
   ]
  },
  {
   "cell_type": "markdown",
   "metadata": {},
   "source": [
    "Step 3: Define emotion labels (matching folder names)"
   ]
  },
  {
   "cell_type": "code",
   "execution_count": 4,
   "metadata": {},
   "outputs": [],
   "source": [
    "emotion_labels = {\n",
    "    \"angry\": 0,\n",
    "    \"disgust\": 1,\n",
    "    \"fear\": 2,\n",
    "    \"happy\": 3,\n",
    "    \"neutral\": 4,\n",
    "    \"sad\": 5,\n",
    "    \"surprise\": 6\n",
    "}"
   ]
  },
  {
   "cell_type": "code",
   "execution_count": 5,
   "metadata": {},
   "outputs": [],
   "source": [
    "# Step 3: Function to load images and extract LBP features\n",
    "def load_images_and_extract_features(directory, percentage=100):\n",
    "    \"\"\"\n",
    "    Load images from the directory, extract LBP features, and return features and labels.\n",
    "    \n",
    "    Parameters:\n",
    "    directory (str): Path to the dataset directory.\n",
    "    percentage (int): Percentage of the dataset to load (1-100).\n",
    "    \n",
    "    Returns:\n",
    "    X (ndarray): Feature vectors for each image.\n",
    "    y (ndarray): Labels corresponding to each feature vector.\n",
    "    \"\"\"\n",
    "    X = []\n",
    "    y = []\n",
    "    \n",
    "    for emotion, label in emotion_labels.items():\n",
    "        folder_path = os.path.join(directory, emotion)\n",
    "        image_files = [f for f in os.listdir(folder_path) if f.endswith(\".jpg\")]\n",
    "        \n",
    "        # Calculate the number of images to load based on the percentage\n",
    "        num_images_to_load = int(len(image_files) * (percentage / 100))\n",
    "        selected_images = image_files[:num_images_to_load]  # Select a subset of the dataset\n",
    "\n",
    "        for file in selected_images:\n",
    "            # Load image\n",
    "            image_path = os.path.join(folder_path, file)\n",
    "            image = cv2.imread(image_path, cv2.IMREAD_GRAYSCALE)  # Load image as grayscale\n",
    "            \n",
    "            # Resize to 48x48 if needed\n",
    "            if image.shape != (48, 48):\n",
    "                image = cv2.resize(image, (48, 48))\n",
    "            \n",
    "            # Extract LBP features\n",
    "            lbp_features = extract_lbp_features(image)\n",
    "            \n",
    "            # Append features and label\n",
    "            X.append(lbp_features)\n",
    "            y.append(label)\n",
    "    \n",
    "    return np.array(X), np.array(y)"
   ]
  },
  {
   "cell_type": "code",
   "execution_count": 6,
   "metadata": {},
   "outputs": [],
   "source": [
    "# Step 4: LBP feature extraction function\n",
    "def extract_lbp_features(image, radius=1, n_points=8):\n",
    "    lbp = local_binary_pattern(image, n_points, radius, method=\"uniform\")\n",
    "    (hist, _) = np.histogram(lbp.ravel(), bins=np.arange(0, n_points + 3),\n",
    "                             range=(0, n_points + 2))\n",
    "    hist = hist.astype(\"float\")\n",
    "    hist /= (hist.sum() + 1e-6)  # Normalize the histogram\n",
    "    return hist"
   ]
  },
  {
   "cell_type": "code",
   "execution_count": 7,
   "metadata": {},
   "outputs": [],
   "source": [
    "# Step 5: Load the training and test data\n",
    "X_train, y_train = load_images_and_extract_features(train_dir, percentage=20)\n",
    "X_test, y_test = load_images_and_extract_features(test_dir, percentage=20)"
   ]
  },
  {
   "cell_type": "code",
   "execution_count": 8,
   "metadata": {},
   "outputs": [],
   "source": [
    "# Step 6: Normalize the features\n",
    "scaler = StandardScaler()\n",
    "X_train = scaler.fit_transform(X_train)\n",
    "X_test = scaler.transform(X_test)"
   ]
  },
  {
   "cell_type": "code",
   "execution_count": 9,
   "metadata": {},
   "outputs": [
    {
     "data": {
      "text/plain": [
       "KNeighborsClassifier(n_neighbors=3)"
      ]
     },
     "execution_count": 9,
     "metadata": {},
     "output_type": "execute_result"
    }
   ],
   "source": [
    "# Step 7: Initialize the KNN Classifier and store the training data\n",
    "knn = KNeighborsClassifier(n_neighbors=3)\n",
    "knn.fit(X_train, y_train)"
   ]
  },
  {
   "cell_type": "code",
   "execution_count": 10,
   "metadata": {},
   "outputs": [
    {
     "name": "stdout",
     "output_type": "stream",
     "text": [
      "Accuracy: 0.1871508379888268\n",
      "              precision    recall  f1-score   support\n",
      "\n",
      "           0       0.15      0.34      0.21       191\n",
      "           1       0.05      0.09      0.07        22\n",
      "           2       0.16      0.22      0.18       204\n",
      "           3       0.28      0.30      0.29       354\n",
      "           4       0.19      0.11      0.14       246\n",
      "           5       0.11      0.05      0.07       249\n",
      "           6       0.21      0.08      0.11       166\n",
      "\n",
      "    accuracy                           0.19      1432\n",
      "   macro avg       0.16      0.17      0.15      1432\n",
      "weighted avg       0.19      0.19      0.18      1432\n",
      "\n"
     ]
    }
   ],
   "source": [
    "# Step 8: Evaluate the model\n",
    "y_pred = knn.predict(X_test)\n",
    "# Print accuracy and classification report\n",
    "print(f\"Accuracy: {accuracy_score(y_test, y_pred)}\")\n",
    "print(classification_report(y_test, y_pred))"
   ]
  },
  {
   "cell_type": "code",
   "execution_count": 12,
   "metadata": {},
   "outputs": [
    {
     "data": {
      "image/png": "[encoded data removed]",
      "text/plain": [
       "<Figure size 432x288 with 1 Axes>"
      ]
     },
     "metadata": {
      "needs_background": "light"
     },
     "output_type": "display_data"
    }
   ],
   "source": [
    "# Step 9: Function to show an example prediction\n",
    "def show_image_and_prediction(image_path, true_label):\n",
    "    image = cv2.imread(image_path, cv2.IMREAD_GRAYSCALE)\n",
    "    if image.shape != (48, 48):\n",
    "        image = cv2.resize(image, (48, 48))\n",
    "    \n",
    "    # Extract LBP features\n",
    "    lbp_features = extract_lbp_features(image)\n",
    "    \n",
    "    # Predict using KNN\n",
    "    pred_label = knn.predict([lbp_features])[0]\n",
    "    \n",
    "    # Show image and prediction\n",
    "    plt.imshow(image, cmap='gray')\n",
    "    plt.title(f\"Predicted: {list(emotion_labels.keys())[pred_label]}, Actual: {true_label}\")\n",
    "    plt.show()\n",
    "\n",
    "# Show an example from the test dataset\n",
    "test_image_path = os.path.join(test_dir, \"happy\", \"PrivateTest_2569530.jpg\")  # Replace with actual image\n",
    "show_image_and_prediction(test_image_path, \"happy\")"
   ]
  },
  {
   "cell_type": "code",
   "execution_count": 14,
   "metadata": {},
   "outputs": [
    {
     "data": {
      "image/png": "[encoded data removed]",
      "text/plain": [
       "<Figure size 432x288 with 1 Axes>"
      ]
     },
     "metadata": {
      "needs_background": "light"
     },
     "output_type": "display_data"
    }
   ],
   "source": [
    "# Show an example from the test dataset\n",
    "test_image_path = os.path.join(test_dir, \"neutral\", \"PrivateTest_2387553.jpg\")  # Replace with actual image\n",
    "show_image_and_prediction(test_image_path, \"neutral\")"
   ]
  }
 ],
 "metadata": {
  "kernelspec": {
   "display_name": "Python 3",
   "language": "python",
   "name": "python3"
  },
  "language_info": {
   "codemirror_mode": {
    "name": "ipython",
    "version": 3
   },
   "file_extension": ".py",
   "mimetype": "text/x-python",
   "name": "python",
   "nbconvert_exporter": "python",
   "pygments_lexer": "ipython3",
   "version": "3.7.10"
  }
 },
 "nbformat": 4,
 "nbformat_minor": 2
}
